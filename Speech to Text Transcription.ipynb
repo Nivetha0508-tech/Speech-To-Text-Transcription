{
 "cells": [
  {
   "cell_type": "code",
   "execution_count": 21,
   "id": "7f356980",
   "metadata": {},
   "outputs": [
    {
     "name": "stdout",
     "output_type": "stream",
     "text": [
      "Requirement already satisfied: SpeechRecognition in c:\\users\\dhakshina\\appdata\\local\\programs\\python\\python313\\lib\\site-packages (3.14.3)\n",
      "Requirement already satisfied: typing-extensions in c:\\users\\dhakshina\\appdata\\local\\programs\\python\\python313\\lib\\site-packages (from SpeechRecognition) (4.14.1)\n",
      "Requirement already satisfied: standard-aifc in c:\\users\\dhakshina\\appdata\\local\\programs\\python\\python313\\lib\\site-packages (from SpeechRecognition) (3.13.0)\n",
      "Requirement already satisfied: audioop-lts in c:\\users\\dhakshina\\appdata\\local\\programs\\python\\python313\\lib\\site-packages (from SpeechRecognition) (0.2.1)\n",
      "Requirement already satisfied: standard-chunk in c:\\users\\dhakshina\\appdata\\local\\programs\\python\\python313\\lib\\site-packages (from standard-aifc->SpeechRecognition) (3.13.0)\n",
      "Note: you may need to restart the kernel to use updated packages.\n",
      "Requirement already satisfied: pyaudio in c:\\users\\dhakshina\\appdata\\local\\programs\\python\\python313\\lib\\site-packages (0.2.14)\n",
      "Note: you may need to restart the kernel to use updated packages.\n",
      "Requirement already satisfied: termcolor in c:\\users\\dhakshina\\appdata\\local\\programs\\python\\python313\\lib\\site-packages (3.1.0)\n",
      "Note: you may need to restart the kernel to use updated packages.\n"
     ]
    }
   ],
   "source": [
    "%pip install SpeechRecognition\n",
    "%pip install pyaudio\n",
    "%pip install termcolor"
   ]
  },
  {
   "cell_type": "code",
   "execution_count": 22,
   "id": "e19f65ab",
   "metadata": {},
   "outputs": [
    {
     "name": "stdout",
     "output_type": "stream",
     "text": [
      "Listening...\n",
      "\u001b[32mTranscription: \u001b[0m\n",
      "\u001b[33mevery morning tell yourself today is going to be a good day positivity attract positivity like a magnet the brighter we Shine the more good things we attract\u001b[0m\n"
     ]
    }
   ],
   "source": [
    "\n",
    "import speech_recognition as sr\n",
    "from termcolor import colored\n",
    "r = sr.Recognizer()\n",
    "\n",
    "with sr.AudioFile(r'C:\\Users\\Dhakshina\\OneDrive\\Desktop\\Codec Tech\\Audio.wav') as source:\n",
    "    print(\"Listening...\")\n",
    "    audio = r.record(source)  \n",
    "\n",
    "try:\n",
    "    text = r.recognize_google(audio)\n",
    "    print(colored(\"Transcription: \", \"green\"))\n",
    "    print(colored(text, \"yellow\"))\n",
    "    \n",
    "except sr.UnknownValueError:\n",
    "    print(\"Google Speech Recognition could not understand the audio\")\n",
    "except sr.RequestError as e:\n",
    "    print(f\"Could not request results; {e}\")"
   ]
  }
 ],
 "metadata": {
  "kernelspec": {
   "display_name": "Python 3",
   "language": "python",
   "name": "python3"
  },
  "language_info": {
   "codemirror_mode": {
    "name": "ipython",
    "version": 3
   },
   "file_extension": ".py",
   "mimetype": "text/x-python",
   "name": "python",
   "nbconvert_exporter": "python",
   "pygments_lexer": "ipython3",
   "version": "3.13.5"
  }
 },
 "nbformat": 4,
 "nbformat_minor": 5
}
